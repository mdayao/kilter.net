{
 "cells": [
  {
   "cell_type": "code",
   "execution_count": 30,
   "id": "9cf93ee2",
   "metadata": {},
   "outputs": [],
   "source": [
    "import numpy as np\n",
    "import pandas as pd\n",
    "import seaborn as sns\n",
    "from matplotlib import pyplot as plt\n",
    "\n",
    "%matplotlib inline"
   ]
  },
  {
   "cell_type": "code",
   "execution_count": 3,
   "id": "45b3dcc9",
   "metadata": {},
   "outputs": [
    {
     "name": "stdout",
     "output_type": "stream",
     "text": [
      "kilter_angles.npy          kilter_qualities.npy\r\n",
      "kilter_ascents.npy         kilter_vgrades.npy\r\n",
      "kilter_climb_features.npy\r\n"
     ]
    }
   ],
   "source": [
    "%ls ../training_data"
   ]
  },
  {
   "cell_type": "code",
   "execution_count": 25,
   "id": "d9ec8c63",
   "metadata": {},
   "outputs": [],
   "source": [
    "data_dir='../training_data/'\n",
    "def load_data(filenames, data_dir=data_dir):\n",
    "    loaded_data = []\n",
    "    for fn in filenames:\n",
    "        loaded_data.append(np.load(f'{data_dir}/{fn}.npy'))\n",
    "    return loaded_data\n",
    "climb_features, angles, vgrades, ascents,qualities = load_data(['kilter_climb_features','kilter_angles','kilter_vgrades','kilter_ascents','kilter_qualities'])\n",
    "climb_data = pd.DataFrame([angles.tolist(),vgrades.tolist(),ascents.tolist(),qualities.tolist()]).T\n",
    "climb_data.columns=['Angles','V-Grade','Ascents','Climb Quality']\n",
    "climb_data.reset_index(inplace=True)"
   ]
  },
  {
   "cell_type": "code",
   "execution_count": 28,
   "id": "2f5e3ac3",
   "metadata": {},
   "outputs": [
    {
     "name": "stdout",
     "output_type": "stream",
     "text": [
      "(91933, 4, 35, 18)\n",
      "(91933, 5)\n",
      "Index(['index', 'Angles', 'V-Grade', 'Ascents', 'Climb Quality'], dtype='object')\n"
     ]
    },
    {
     "data": {
      "text/html": [
       "<div>\n",
       "<style scoped>\n",
       "    .dataframe tbody tr th:only-of-type {\n",
       "        vertical-align: middle;\n",
       "    }\n",
       "\n",
       "    .dataframe tbody tr th {\n",
       "        vertical-align: top;\n",
       "    }\n",
       "\n",
       "    .dataframe thead th {\n",
       "        text-align: right;\n",
       "    }\n",
       "</style>\n",
       "<table border=\"1\" class=\"dataframe\">\n",
       "  <thead>\n",
       "    <tr style=\"text-align: right;\">\n",
       "      <th></th>\n",
       "      <th>index</th>\n",
       "      <th>Angles</th>\n",
       "      <th>V-Grade</th>\n",
       "      <th>Ascents</th>\n",
       "      <th>Climb Quality</th>\n",
       "    </tr>\n",
       "  </thead>\n",
       "  <tbody>\n",
       "    <tr>\n",
       "      <th>0</th>\n",
       "      <td>0</td>\n",
       "      <td>0.0</td>\n",
       "      <td>0.0</td>\n",
       "      <td>1.0</td>\n",
       "      <td>3.00</td>\n",
       "    </tr>\n",
       "    <tr>\n",
       "      <th>1</th>\n",
       "      <td>1</td>\n",
       "      <td>0.0</td>\n",
       "      <td>0.0</td>\n",
       "      <td>16.0</td>\n",
       "      <td>2.75</td>\n",
       "    </tr>\n",
       "    <tr>\n",
       "      <th>2</th>\n",
       "      <td>2</td>\n",
       "      <td>0.0</td>\n",
       "      <td>0.0</td>\n",
       "      <td>10.0</td>\n",
       "      <td>2.70</td>\n",
       "    </tr>\n",
       "    <tr>\n",
       "      <th>3</th>\n",
       "      <td>3</td>\n",
       "      <td>0.0</td>\n",
       "      <td>0.0</td>\n",
       "      <td>1.0</td>\n",
       "      <td>1.00</td>\n",
       "    </tr>\n",
       "    <tr>\n",
       "      <th>4</th>\n",
       "      <td>4</td>\n",
       "      <td>0.0</td>\n",
       "      <td>0.0</td>\n",
       "      <td>1.0</td>\n",
       "      <td>1.00</td>\n",
       "    </tr>\n",
       "  </tbody>\n",
       "</table>\n",
       "</div>"
      ],
      "text/plain": [
       "   index  Angles  V-Grade  Ascents  Climb Quality\n",
       "0      0     0.0      0.0      1.0           3.00\n",
       "1      1     0.0      0.0     16.0           2.75\n",
       "2      2     0.0      0.0     10.0           2.70\n",
       "3      3     0.0      0.0      1.0           1.00\n",
       "4      4     0.0      0.0      1.0           1.00"
      ]
     },
     "execution_count": 28,
     "metadata": {},
     "output_type": "execute_result"
    }
   ],
   "source": [
    "print(climb_features.shape)\n",
    "print(climb_data.shape)\n",
    "print(climb_data.columns)\n",
    "climb_data.head()"
   ]
  },
  {
   "cell_type": "code",
   "execution_count": null,
   "id": "c5a1fe7f",
   "metadata": {},
   "outputs": [],
   "source": [
    "fig, axes = plt.subplots(2,2,figsize=(10,10))\n",
    "sns.histplot(data=climb_data,x='Angles',binwidth=5,ax=axes[0,0])\n",
    "sns.histplot(data=climb_data,x='V-Grade',binwidth=1,ax=axes[0,1])\n",
    "sns.histplot(data=climb_data,x='Ascents',ax=axes[1,0])\n",
    "sns.histplot(data=climb_data,x='Climb Quality',ax=axes[1,1])"
   ]
  },
  {
   "cell_type": "code",
   "execution_count": null,
   "id": "d8982535",
   "metadata": {},
   "outputs": [],
   "source": []
  }
 ],
 "metadata": {
  "kernelspec": {
   "display_name": "Python 3 (ipykernel)",
   "language": "python",
   "name": "python3"
  },
  "language_info": {
   "codemirror_mode": {
    "name": "ipython",
    "version": 3
   },
   "file_extension": ".py",
   "mimetype": "text/x-python",
   "name": "python",
   "nbconvert_exporter": "python",
   "pygments_lexer": "ipython3",
   "version": "3.9.16"
  }
 },
 "nbformat": 4,
 "nbformat_minor": 5
}
